{
 "cells": [
  {
   "cell_type": "markdown",
   "id": "335be1ab",
   "metadata": {},
   "source": [
    "## 1. Introduction\n",
    "\n",
    "**Name**   : Fadhola Asandi Asandi Mardika Putra\n",
    "\n",
    "\n",
    "Notebook ini dibuat sebagai bagian dari tugas Milestone 1. Fokus analisis diarahkan pada peningkatan revenue sub-kategori *Road Bikes* di Kanada.\n",
    "\n"
   ]
  },
  {
   "cell_type": "markdown",
   "id": "2688806b",
   "metadata": {},
   "source": [
    "\n",
    "  ## 2. Problem Statement and Dataset Description\n",
    "\n",
    "### Latar Belakang\n",
    "\n",
    "Selama periode 2014 hingga 2016, Kanada secara konsisten mencatatkan total revenue terendah dibandingkan negara-negara lain dalam dataset. Meskipun terjadi peningkatan signifikan pada total revenue global di tahun 2015, performa Kanada tidak menunjukkan pertumbuhan yang sebanding. Bahkan pada tahun 2016, total revenue Kanada kembali menurun, meskipun tidak serendah tahun 2014.\n",
    "\n",
    "Salah satu sub-kategori yang berperan penting dalam penjualan di Kanada adalah **Road Bikes**. Namun, penjualannya juga mengalami fluktuasi dan belum mencapai potensi optimalnya. Melihat hal ini, peningkatan revenue *Road Bikes* di Kanada pada tahun 2017 menjadi fokus strategis untuk mendorong pertumbuhan penjualan secara keseluruhan di negara tersebut.\n",
    "\n",
    "\n",
    "### SMART Goals\n",
    "\n",
    "- **Specific**: Meningkatkan revenue subkategori *Road Bikes* di Kanada.\n",
    "- **Measurable**: Menaikkan revenue dari 254.798 di tahun 2016 menjadi 343.977 untuk 2017 atau sebesar 35%.\n",
    "- **Achievable**: Target ini realistis karena pernah mencapai 414.901 pada 2015.\n",
    "- **Relevant**: *Road Bikes* adalah salah satu kontributor utama revenue Kanada dalam kategori *bikes*. Jika ditingkatkan, total revenue nasional akan naik.\n",
    "- **Time-Bound**: Target ini harus dicapai dalam 12 bulan atau 1 tahun.\n",
    "\n",
    "\n",
    "### Problem Statement\n",
    "\n",
    "Meningkatkan revenue sub-kategori *Road Bikes* di Kanada sebesar 35% pada tahun 2017, dari 254.798 menjadi 343.977, dengan fokus pada strategi wilayah, waktu penjualan, dan segmentasi pelanggan, agar Kanada tidak lagi menjadi negara dengan kontribusi revenue terendah.\n",
    "\n",
    "\n",
    "### Penjabaran Masalah\n",
    "\n",
    "- **What**: Apa tren revenue sub-kategori *Road Bikes* di Kanada dari tahun ke tahun?\n",
    "- **Why**: Kenapa revenue *Road Bikes* di Kanada secara signifikan lebih rendah dibandingkan negara lain selama 2014–2016?  \n",
    "- **When**: Kapan puncak dan penurunan revenue *Road Bikes* terjadi sepanjang tahun, dilihat per bulan?\n",
    "- **Where**: Di provinsi mana di Kanada revenue *Road Bikes* paling tinggi dan paling rendah?\n",
    "- **Who**: Kelompok pelanggan mana yang berkontribusi paling besar dan paling kecil terhadap revenue?\n",
    "- **How**: Bagaimana kontribusi *Road Bikes* dibandingkan sub-kategori lain dalam kategori sepeda?\n",
    "\n",
    "\n",
    "### Target Audience/User\n",
    "\n",
    "Divisi **Sales dan Marketing**.\n",
    "\n"
   ]
  },
  {
   "cell_type": "markdown",
   "id": "4c0a7d95",
   "metadata": {},
   "source": [
    "## 3. Data Loading\n",
    "\n",
    "Pada bagian ini, proses *data loading* dilakukan menggunakan Python (pandas) dari file dataset lokal yang sudah tersedia.\n"
   ]
  },
  {
   "cell_type": "code",
   "execution_count": 1,
   "id": "5371f29d",
   "metadata": {},
   "outputs": [],
   "source": [
    "import pandas as pd\n",
    "from scipy import stats\n",
    "import matplotlib.pyplot as plt\n",
    "import seaborn as sns"
   ]
  },
  {
   "cell_type": "code",
   "execution_count": null,
   "id": "ebee1848",
   "metadata": {},
   "outputs": [
    {
     "data": {
      "text/html": [
       "<div>\n",
       "<style scoped>\n",
       "    .dataframe tbody tr th:only-of-type {\n",
       "        vertical-align: middle;\n",
       "    }\n",
       "\n",
       "    .dataframe tbody tr th {\n",
       "        vertical-align: top;\n",
       "    }\n",
       "\n",
       "    .dataframe thead th {\n",
       "        text-align: right;\n",
       "    }\n",
       "</style>\n",
       "<table border=\"1\" class=\"dataframe\">\n",
       "  <thead>\n",
       "    <tr style=\"text-align: right;\">\n",
       "      <th></th>\n",
       "      <th>Date</th>\n",
       "      <th>Day</th>\n",
       "      <th>Month</th>\n",
       "      <th>Year</th>\n",
       "      <th>Customer_Age</th>\n",
       "      <th>Age_Group</th>\n",
       "      <th>Customer_Gender</th>\n",
       "      <th>Country</th>\n",
       "      <th>State</th>\n",
       "      <th>Product_Category</th>\n",
       "      <th>Sub_Category</th>\n",
       "      <th>Product</th>\n",
       "      <th>Order_Quantity</th>\n",
       "      <th>Unit_Cost</th>\n",
       "      <th>Unit_Price</th>\n",
       "      <th>Profit</th>\n",
       "      <th>Cost</th>\n",
       "      <th>Revenue</th>\n",
       "    </tr>\n",
       "  </thead>\n",
       "  <tbody>\n",
       "    <tr>\n",
       "      <th>0</th>\n",
       "      <td>2013-11-26</td>\n",
       "      <td>26</td>\n",
       "      <td>November</td>\n",
       "      <td>2013</td>\n",
       "      <td>19</td>\n",
       "      <td>Youth (&lt;25)</td>\n",
       "      <td>M</td>\n",
       "      <td>Canada</td>\n",
       "      <td>British Columbia</td>\n",
       "      <td>Accessories</td>\n",
       "      <td>Bike Racks</td>\n",
       "      <td>Hitch Rack - 4-Bike</td>\n",
       "      <td>8</td>\n",
       "      <td>45</td>\n",
       "      <td>120</td>\n",
       "      <td>590</td>\n",
       "      <td>360</td>\n",
       "      <td>950</td>\n",
       "    </tr>\n",
       "    <tr>\n",
       "      <th>1</th>\n",
       "      <td>2015-11-26</td>\n",
       "      <td>26</td>\n",
       "      <td>November</td>\n",
       "      <td>2015</td>\n",
       "      <td>19</td>\n",
       "      <td>Youth (&lt;25)</td>\n",
       "      <td>M</td>\n",
       "      <td>Canada</td>\n",
       "      <td>British Columbia</td>\n",
       "      <td>Accessories</td>\n",
       "      <td>Bike Racks</td>\n",
       "      <td>Hitch Rack - 4-Bike</td>\n",
       "      <td>8</td>\n",
       "      <td>45</td>\n",
       "      <td>120</td>\n",
       "      <td>590</td>\n",
       "      <td>360</td>\n",
       "      <td>950</td>\n",
       "    </tr>\n",
       "    <tr>\n",
       "      <th>2</th>\n",
       "      <td>2014-03-23</td>\n",
       "      <td>23</td>\n",
       "      <td>March</td>\n",
       "      <td>2014</td>\n",
       "      <td>49</td>\n",
       "      <td>Adults (35-64)</td>\n",
       "      <td>M</td>\n",
       "      <td>Australia</td>\n",
       "      <td>New South Wales</td>\n",
       "      <td>Accessories</td>\n",
       "      <td>Bike Racks</td>\n",
       "      <td>Hitch Rack - 4-Bike</td>\n",
       "      <td>23</td>\n",
       "      <td>45</td>\n",
       "      <td>120</td>\n",
       "      <td>1366</td>\n",
       "      <td>1035</td>\n",
       "      <td>2401</td>\n",
       "    </tr>\n",
       "    <tr>\n",
       "      <th>3</th>\n",
       "      <td>2016-03-23</td>\n",
       "      <td>23</td>\n",
       "      <td>March</td>\n",
       "      <td>2016</td>\n",
       "      <td>49</td>\n",
       "      <td>Adults (35-64)</td>\n",
       "      <td>M</td>\n",
       "      <td>Australia</td>\n",
       "      <td>New South Wales</td>\n",
       "      <td>Accessories</td>\n",
       "      <td>Bike Racks</td>\n",
       "      <td>Hitch Rack - 4-Bike</td>\n",
       "      <td>20</td>\n",
       "      <td>45</td>\n",
       "      <td>120</td>\n",
       "      <td>1188</td>\n",
       "      <td>900</td>\n",
       "      <td>2088</td>\n",
       "    </tr>\n",
       "    <tr>\n",
       "      <th>4</th>\n",
       "      <td>2014-05-15</td>\n",
       "      <td>15</td>\n",
       "      <td>May</td>\n",
       "      <td>2014</td>\n",
       "      <td>47</td>\n",
       "      <td>Adults (35-64)</td>\n",
       "      <td>F</td>\n",
       "      <td>Australia</td>\n",
       "      <td>New South Wales</td>\n",
       "      <td>Accessories</td>\n",
       "      <td>Bike Racks</td>\n",
       "      <td>Hitch Rack - 4-Bike</td>\n",
       "      <td>4</td>\n",
       "      <td>45</td>\n",
       "      <td>120</td>\n",
       "      <td>238</td>\n",
       "      <td>180</td>\n",
       "      <td>418</td>\n",
       "    </tr>\n",
       "    <tr>\n",
       "      <th>...</th>\n",
       "      <td>...</td>\n",
       "      <td>...</td>\n",
       "      <td>...</td>\n",
       "      <td>...</td>\n",
       "      <td>...</td>\n",
       "      <td>...</td>\n",
       "      <td>...</td>\n",
       "      <td>...</td>\n",
       "      <td>...</td>\n",
       "      <td>...</td>\n",
       "      <td>...</td>\n",
       "      <td>...</td>\n",
       "      <td>...</td>\n",
       "      <td>...</td>\n",
       "      <td>...</td>\n",
       "      <td>...</td>\n",
       "      <td>...</td>\n",
       "      <td>...</td>\n",
       "    </tr>\n",
       "    <tr>\n",
       "      <th>113031</th>\n",
       "      <td>2016-04-12</td>\n",
       "      <td>12</td>\n",
       "      <td>April</td>\n",
       "      <td>2016</td>\n",
       "      <td>41</td>\n",
       "      <td>Adults (35-64)</td>\n",
       "      <td>M</td>\n",
       "      <td>United Kingdom</td>\n",
       "      <td>England</td>\n",
       "      <td>Clothing</td>\n",
       "      <td>Vests</td>\n",
       "      <td>Classic Vest, S</td>\n",
       "      <td>3</td>\n",
       "      <td>24</td>\n",
       "      <td>64</td>\n",
       "      <td>112</td>\n",
       "      <td>72</td>\n",
       "      <td>184</td>\n",
       "    </tr>\n",
       "    <tr>\n",
       "      <th>113032</th>\n",
       "      <td>2014-04-02</td>\n",
       "      <td>2</td>\n",
       "      <td>April</td>\n",
       "      <td>2014</td>\n",
       "      <td>18</td>\n",
       "      <td>Youth (&lt;25)</td>\n",
       "      <td>M</td>\n",
       "      <td>Australia</td>\n",
       "      <td>Queensland</td>\n",
       "      <td>Clothing</td>\n",
       "      <td>Vests</td>\n",
       "      <td>Classic Vest, M</td>\n",
       "      <td>22</td>\n",
       "      <td>24</td>\n",
       "      <td>64</td>\n",
       "      <td>655</td>\n",
       "      <td>528</td>\n",
       "      <td>1183</td>\n",
       "    </tr>\n",
       "    <tr>\n",
       "      <th>113033</th>\n",
       "      <td>2016-04-02</td>\n",
       "      <td>2</td>\n",
       "      <td>April</td>\n",
       "      <td>2016</td>\n",
       "      <td>18</td>\n",
       "      <td>Youth (&lt;25)</td>\n",
       "      <td>M</td>\n",
       "      <td>Australia</td>\n",
       "      <td>Queensland</td>\n",
       "      <td>Clothing</td>\n",
       "      <td>Vests</td>\n",
       "      <td>Classic Vest, M</td>\n",
       "      <td>22</td>\n",
       "      <td>24</td>\n",
       "      <td>64</td>\n",
       "      <td>655</td>\n",
       "      <td>528</td>\n",
       "      <td>1183</td>\n",
       "    </tr>\n",
       "    <tr>\n",
       "      <th>113034</th>\n",
       "      <td>2014-03-04</td>\n",
       "      <td>4</td>\n",
       "      <td>March</td>\n",
       "      <td>2014</td>\n",
       "      <td>37</td>\n",
       "      <td>Adults (35-64)</td>\n",
       "      <td>F</td>\n",
       "      <td>France</td>\n",
       "      <td>Seine (Paris)</td>\n",
       "      <td>Clothing</td>\n",
       "      <td>Vests</td>\n",
       "      <td>Classic Vest, L</td>\n",
       "      <td>24</td>\n",
       "      <td>24</td>\n",
       "      <td>64</td>\n",
       "      <td>684</td>\n",
       "      <td>576</td>\n",
       "      <td>1260</td>\n",
       "    </tr>\n",
       "    <tr>\n",
       "      <th>113035</th>\n",
       "      <td>2016-03-04</td>\n",
       "      <td>4</td>\n",
       "      <td>March</td>\n",
       "      <td>2016</td>\n",
       "      <td>37</td>\n",
       "      <td>Adults (35-64)</td>\n",
       "      <td>F</td>\n",
       "      <td>France</td>\n",
       "      <td>Seine (Paris)</td>\n",
       "      <td>Clothing</td>\n",
       "      <td>Vests</td>\n",
       "      <td>Classic Vest, L</td>\n",
       "      <td>23</td>\n",
       "      <td>24</td>\n",
       "      <td>64</td>\n",
       "      <td>655</td>\n",
       "      <td>552</td>\n",
       "      <td>1207</td>\n",
       "    </tr>\n",
       "  </tbody>\n",
       "</table>\n",
       "<p>113036 rows × 18 columns</p>\n",
       "</div>"
      ],
      "text/plain": [
       "              Date  Day     Month  Year  Customer_Age       Age_Group  \\\n",
       "0       2013-11-26   26  November  2013            19     Youth (<25)   \n",
       "1       2015-11-26   26  November  2015            19     Youth (<25)   \n",
       "2       2014-03-23   23     March  2014            49  Adults (35-64)   \n",
       "3       2016-03-23   23     March  2016            49  Adults (35-64)   \n",
       "4       2014-05-15   15       May  2014            47  Adults (35-64)   \n",
       "...            ...  ...       ...   ...           ...             ...   \n",
       "113031  2016-04-12   12     April  2016            41  Adults (35-64)   \n",
       "113032  2014-04-02    2     April  2014            18     Youth (<25)   \n",
       "113033  2016-04-02    2     April  2016            18     Youth (<25)   \n",
       "113034  2014-03-04    4     March  2014            37  Adults (35-64)   \n",
       "113035  2016-03-04    4     March  2016            37  Adults (35-64)   \n",
       "\n",
       "       Customer_Gender         Country             State Product_Category  \\\n",
       "0                    M          Canada  British Columbia      Accessories   \n",
       "1                    M          Canada  British Columbia      Accessories   \n",
       "2                    M       Australia   New South Wales      Accessories   \n",
       "3                    M       Australia   New South Wales      Accessories   \n",
       "4                    F       Australia   New South Wales      Accessories   \n",
       "...                ...             ...               ...              ...   \n",
       "113031               M  United Kingdom           England         Clothing   \n",
       "113032               M       Australia        Queensland         Clothing   \n",
       "113033               M       Australia        Queensland         Clothing   \n",
       "113034               F          France     Seine (Paris)         Clothing   \n",
       "113035               F          France     Seine (Paris)         Clothing   \n",
       "\n",
       "       Sub_Category              Product  Order_Quantity  Unit_Cost  \\\n",
       "0        Bike Racks  Hitch Rack - 4-Bike               8         45   \n",
       "1        Bike Racks  Hitch Rack - 4-Bike               8         45   \n",
       "2        Bike Racks  Hitch Rack - 4-Bike              23         45   \n",
       "3        Bike Racks  Hitch Rack - 4-Bike              20         45   \n",
       "4        Bike Racks  Hitch Rack - 4-Bike               4         45   \n",
       "...             ...                  ...             ...        ...   \n",
       "113031        Vests      Classic Vest, S               3         24   \n",
       "113032        Vests      Classic Vest, M              22         24   \n",
       "113033        Vests      Classic Vest, M              22         24   \n",
       "113034        Vests      Classic Vest, L              24         24   \n",
       "113035        Vests      Classic Vest, L              23         24   \n",
       "\n",
       "        Unit_Price  Profit  Cost  Revenue  \n",
       "0              120     590   360      950  \n",
       "1              120     590   360      950  \n",
       "2              120    1366  1035     2401  \n",
       "3              120    1188   900     2088  \n",
       "4              120     238   180      418  \n",
       "...            ...     ...   ...      ...  \n",
       "113031          64     112    72      184  \n",
       "113032          64     655   528     1183  \n",
       "113033          64     655   528     1183  \n",
       "113034          64     684   576     1260  \n",
       "113035          64     655   552     1207  \n",
       "\n",
       "[113036 rows x 18 columns]"
      ]
     },
     "execution_count": 2,
     "metadata": {},
     "output_type": "execute_result"
    }
   ],
   "source": [
    "df = pd.read_csv('dataset.csv')\n",
    "df"
   ]
  },
  {
   "cell_type": "markdown",
   "id": "b472b6a8",
   "metadata": {},
   "source": [
    " ###  4. Data Cleaning\n",
    "Pada bagian ini saya melakukan mengubah tipe data kolom 'Date' dari object ke datetime"
   ]
  },
  {
   "cell_type": "code",
   "execution_count": 3,
   "id": "492dd972",
   "metadata": {},
   "outputs": [
    {
     "name": "stdout",
     "output_type": "stream",
     "text": [
      "<class 'pandas.core.frame.DataFrame'>\n",
      "RangeIndex: 113036 entries, 0 to 113035\n",
      "Data columns (total 18 columns):\n",
      " #   Column            Non-Null Count   Dtype \n",
      "---  ------            --------------   ----- \n",
      " 0   Date              113036 non-null  object\n",
      " 1   Day               113036 non-null  int64 \n",
      " 2   Month             113036 non-null  object\n",
      " 3   Year              113036 non-null  int64 \n",
      " 4   Customer_Age      113036 non-null  int64 \n",
      " 5   Age_Group         113036 non-null  object\n",
      " 6   Customer_Gender   113036 non-null  object\n",
      " 7   Country           113036 non-null  object\n",
      " 8   State             113036 non-null  object\n",
      " 9   Product_Category  113036 non-null  object\n",
      " 10  Sub_Category      113036 non-null  object\n",
      " 11  Product           113036 non-null  object\n",
      " 12  Order_Quantity    113036 non-null  int64 \n",
      " 13  Unit_Cost         113036 non-null  int64 \n",
      " 14  Unit_Price        113036 non-null  int64 \n",
      " 15  Profit            113036 non-null  int64 \n",
      " 16  Cost              113036 non-null  int64 \n",
      " 17  Revenue           113036 non-null  int64 \n",
      "dtypes: int64(9), object(9)\n",
      "memory usage: 15.5+ MB\n"
     ]
    }
   ],
   "source": [
    "df.info()"
   ]
  },
  {
   "cell_type": "code",
   "execution_count": 4,
   "id": "328543c5",
   "metadata": {},
   "outputs": [
    {
     "name": "stdout",
     "output_type": "stream",
     "text": [
      "<class 'pandas.core.frame.DataFrame'>\n",
      "RangeIndex: 113036 entries, 0 to 113035\n",
      "Data columns (total 18 columns):\n",
      " #   Column            Non-Null Count   Dtype         \n",
      "---  ------            --------------   -----         \n",
      " 0   Date              113036 non-null  datetime64[ns]\n",
      " 1   Day               113036 non-null  int64         \n",
      " 2   Month             113036 non-null  object        \n",
      " 3   Year              113036 non-null  int64         \n",
      " 4   Customer_Age      113036 non-null  int64         \n",
      " 5   Age_Group         113036 non-null  object        \n",
      " 6   Customer_Gender   113036 non-null  object        \n",
      " 7   Country           113036 non-null  object        \n",
      " 8   State             113036 non-null  object        \n",
      " 9   Product_Category  113036 non-null  object        \n",
      " 10  Sub_Category      113036 non-null  object        \n",
      " 11  Product           113036 non-null  object        \n",
      " 12  Order_Quantity    113036 non-null  int64         \n",
      " 13  Unit_Cost         113036 non-null  int64         \n",
      " 14  Unit_Price        113036 non-null  int64         \n",
      " 15  Profit            113036 non-null  int64         \n",
      " 16  Cost              113036 non-null  int64         \n",
      " 17  Revenue           113036 non-null  int64         \n",
      "dtypes: datetime64[ns](1), int64(9), object(8)\n",
      "memory usage: 15.5+ MB\n"
     ]
    }
   ],
   "source": [
    "# Mengubah format date menjadi datetime\n",
    "df['Date'] = pd.to_datetime(df['Date'])\n",
    "df.info()"
   ]
  },
  {
   "cell_type": "code",
   "execution_count": 5,
   "id": "b6c7815b",
   "metadata": {},
   "outputs": [
    {
     "data": {
      "text/plain": [
       "Index(['Date', 'Day', 'Month', 'Year', 'Customer_Age', 'Age_Group',\n",
       "       'Customer_Gender', 'Country', 'State', 'Product_Category',\n",
       "       'Sub_Category', 'Product', 'Order_Quantity', 'Unit_Cost', 'Unit_Price',\n",
       "       'Profit', 'Cost', 'Revenue'],\n",
       "      dtype='object')"
      ]
     },
     "execution_count": 5,
     "metadata": {},
     "output_type": "execute_result"
    }
   ],
   "source": [
    "df.columns"
   ]
  },
  {
   "cell_type": "code",
   "execution_count": 6,
   "id": "7d8e4347",
   "metadata": {},
   "outputs": [
    {
     "name": "stdout",
     "output_type": "stream",
     "text": [
      "2014\n"
     ]
    },
    {
     "data": {
      "text/html": [
       "<div>\n",
       "<style scoped>\n",
       "    .dataframe tbody tr th:only-of-type {\n",
       "        vertical-align: middle;\n",
       "    }\n",
       "\n",
       "    .dataframe tbody tr th {\n",
       "        vertical-align: top;\n",
       "    }\n",
       "\n",
       "    .dataframe thead th {\n",
       "        text-align: right;\n",
       "    }\n",
       "</style>\n",
       "<table border=\"1\" class=\"dataframe\">\n",
       "  <thead>\n",
       "    <tr style=\"text-align: right;\">\n",
       "      <th></th>\n",
       "      <th>Country</th>\n",
       "      <th>Revenue</th>\n",
       "    </tr>\n",
       "  </thead>\n",
       "  <tbody>\n",
       "    <tr>\n",
       "      <th>0</th>\n",
       "      <td>Australia</td>\n",
       "      <td>918168</td>\n",
       "    </tr>\n",
       "    <tr>\n",
       "      <th>5</th>\n",
       "      <td>United States</td>\n",
       "      <td>846335</td>\n",
       "    </tr>\n",
       "    <tr>\n",
       "      <th>3</th>\n",
       "      <td>Germany</td>\n",
       "      <td>387473</td>\n",
       "    </tr>\n",
       "    <tr>\n",
       "      <th>4</th>\n",
       "      <td>United Kingdom</td>\n",
       "      <td>379937</td>\n",
       "    </tr>\n",
       "    <tr>\n",
       "      <th>2</th>\n",
       "      <td>France</td>\n",
       "      <td>307224</td>\n",
       "    </tr>\n",
       "    <tr>\n",
       "      <th>1</th>\n",
       "      <td>Canada</td>\n",
       "      <td>177990</td>\n",
       "    </tr>\n",
       "  </tbody>\n",
       "</table>\n",
       "</div>"
      ],
      "text/plain": [
       "          Country  Revenue\n",
       "0       Australia   918168\n",
       "5   United States   846335\n",
       "3         Germany   387473\n",
       "4  United Kingdom   379937\n",
       "2          France   307224\n",
       "1          Canada   177990"
      ]
     },
     "metadata": {},
     "output_type": "display_data"
    },
    {
     "name": "stdout",
     "output_type": "stream",
     "text": [
      "2015\n"
     ]
    },
    {
     "data": {
      "text/html": [
       "<div>\n",
       "<style scoped>\n",
       "    .dataframe tbody tr th:only-of-type {\n",
       "        vertical-align: middle;\n",
       "    }\n",
       "\n",
       "    .dataframe tbody tr th {\n",
       "        vertical-align: top;\n",
       "    }\n",
       "\n",
       "    .dataframe thead th {\n",
       "        text-align: right;\n",
       "    }\n",
       "</style>\n",
       "<table border=\"1\" class=\"dataframe\">\n",
       "  <thead>\n",
       "    <tr style=\"text-align: right;\">\n",
       "      <th></th>\n",
       "      <th>Country</th>\n",
       "      <th>Revenue</th>\n",
       "    </tr>\n",
       "  </thead>\n",
       "  <tbody>\n",
       "    <tr>\n",
       "      <th>0</th>\n",
       "      <td>Australia</td>\n",
       "      <td>2590091</td>\n",
       "    </tr>\n",
       "    <tr>\n",
       "      <th>5</th>\n",
       "      <td>United States</td>\n",
       "      <td>1868278</td>\n",
       "    </tr>\n",
       "    <tr>\n",
       "      <th>4</th>\n",
       "      <td>United Kingdom</td>\n",
       "      <td>944683</td>\n",
       "    </tr>\n",
       "    <tr>\n",
       "      <th>3</th>\n",
       "      <td>Germany</td>\n",
       "      <td>754818</td>\n",
       "    </tr>\n",
       "    <tr>\n",
       "      <th>2</th>\n",
       "      <td>France</td>\n",
       "      <td>707051</td>\n",
       "    </tr>\n",
       "    <tr>\n",
       "      <th>1</th>\n",
       "      <td>Canada</td>\n",
       "      <td>414901</td>\n",
       "    </tr>\n",
       "  </tbody>\n",
       "</table>\n",
       "</div>"
      ],
      "text/plain": [
       "          Country  Revenue\n",
       "0       Australia  2590091\n",
       "5   United States  1868278\n",
       "4  United Kingdom   944683\n",
       "3         Germany   754818\n",
       "2          France   707051\n",
       "1          Canada   414901"
      ]
     },
     "metadata": {},
     "output_type": "display_data"
    },
    {
     "name": "stdout",
     "output_type": "stream",
     "text": [
      "2016\n"
     ]
    },
    {
     "data": {
      "text/html": [
       "<div>\n",
       "<style scoped>\n",
       "    .dataframe tbody tr th:only-of-type {\n",
       "        vertical-align: middle;\n",
       "    }\n",
       "\n",
       "    .dataframe tbody tr th {\n",
       "        vertical-align: top;\n",
       "    }\n",
       "\n",
       "    .dataframe thead th {\n",
       "        text-align: right;\n",
       "    }\n",
       "</style>\n",
       "<table border=\"1\" class=\"dataframe\">\n",
       "  <thead>\n",
       "    <tr style=\"text-align: right;\">\n",
       "      <th></th>\n",
       "      <th>Country</th>\n",
       "      <th>Revenue</th>\n",
       "    </tr>\n",
       "  </thead>\n",
       "  <tbody>\n",
       "    <tr>\n",
       "      <th>0</th>\n",
       "      <td>Australia</td>\n",
       "      <td>1395135</td>\n",
       "    </tr>\n",
       "    <tr>\n",
       "      <th>5</th>\n",
       "      <td>United States</td>\n",
       "      <td>1231409</td>\n",
       "    </tr>\n",
       "    <tr>\n",
       "      <th>3</th>\n",
       "      <td>Germany</td>\n",
       "      <td>575585</td>\n",
       "    </tr>\n",
       "    <tr>\n",
       "      <th>4</th>\n",
       "      <td>United Kingdom</td>\n",
       "      <td>564128</td>\n",
       "    </tr>\n",
       "    <tr>\n",
       "      <th>2</th>\n",
       "      <td>France</td>\n",
       "      <td>448957</td>\n",
       "    </tr>\n",
       "    <tr>\n",
       "      <th>1</th>\n",
       "      <td>Canada</td>\n",
       "      <td>254798</td>\n",
       "    </tr>\n",
       "  </tbody>\n",
       "</table>\n",
       "</div>"
      ],
      "text/plain": [
       "          Country  Revenue\n",
       "0       Australia  1395135\n",
       "5   United States  1231409\n",
       "3         Germany   575585\n",
       "4  United Kingdom   564128\n",
       "2          France   448957\n",
       "1          Canada   254798"
      ]
     },
     "metadata": {},
     "output_type": "display_data"
    }
   ],
   "source": [
    "# tampilkan trend revenue subkategori road bikes tahun 2014, 2015, 2016 antar negara\n",
    "print('2014')\n",
    "display(df[(df['Sub_Category'] == 'Road Bikes') & (df['Year'] == 2014)].groupby(['Country']).agg({'Revenue': 'sum'}).reset_index().sort_values(by='Revenue', ascending=False))\n",
    "print('2015')\n",
    "display(df[(df['Sub_Category'] == 'Road Bikes') & (df['Year'] == 2015)].groupby(['Country']).agg({'Revenue': 'sum'}).reset_index().sort_values(by='Revenue', ascending=False))\n",
    "print('2016')\n",
    "display(df[(df['Sub_Category'] == 'Road Bikes') & (df['Year'] == 2016)].groupby(['Country']).agg({'Revenue': 'sum'}).reset_index().sort_values(by='Revenue', ascending=False))"
   ]
  },
  {
   "cell_type": "code",
   "execution_count": 7,
   "id": "7b2adee5",
   "metadata": {},
   "outputs": [
    {
     "data": {
      "text/html": [
       "<div>\n",
       "<style scoped>\n",
       "    .dataframe tbody tr th:only-of-type {\n",
       "        vertical-align: middle;\n",
       "    }\n",
       "\n",
       "    .dataframe tbody tr th {\n",
       "        vertical-align: top;\n",
       "    }\n",
       "\n",
       "    .dataframe thead th {\n",
       "        text-align: right;\n",
       "    }\n",
       "</style>\n",
       "<table border=\"1\" class=\"dataframe\">\n",
       "  <thead>\n",
       "    <tr style=\"text-align: right;\">\n",
       "      <th></th>\n",
       "      <th>Sub_Category</th>\n",
       "      <th>Revenue</th>\n",
       "    </tr>\n",
       "  </thead>\n",
       "  <tbody>\n",
       "    <tr>\n",
       "      <th>11</th>\n",
       "      <td>Road Bikes</td>\n",
       "      <td>2590091</td>\n",
       "    </tr>\n",
       "    <tr>\n",
       "      <th>10</th>\n",
       "      <td>Mountain Bikes</td>\n",
       "      <td>1624435</td>\n",
       "    </tr>\n",
       "    <tr>\n",
       "      <th>15</th>\n",
       "      <td>Touring Bikes</td>\n",
       "      <td>463106</td>\n",
       "    </tr>\n",
       "    <tr>\n",
       "      <th>7</th>\n",
       "      <td>Helmets</td>\n",
       "      <td>227653</td>\n",
       "    </tr>\n",
       "    <tr>\n",
       "      <th>9</th>\n",
       "      <td>Jerseys</td>\n",
       "      <td>209512</td>\n",
       "    </tr>\n",
       "    <tr>\n",
       "      <th>14</th>\n",
       "      <td>Tires and Tubes</td>\n",
       "      <td>178124</td>\n",
       "    </tr>\n",
       "    <tr>\n",
       "      <th>16</th>\n",
       "      <td>Vests</td>\n",
       "      <td>90881</td>\n",
       "    </tr>\n",
       "    <tr>\n",
       "      <th>12</th>\n",
       "      <td>Shorts</td>\n",
       "      <td>64809</td>\n",
       "    </tr>\n",
       "    <tr>\n",
       "      <th>8</th>\n",
       "      <td>Hydration Packs</td>\n",
       "      <td>61732</td>\n",
       "    </tr>\n",
       "    <tr>\n",
       "      <th>2</th>\n",
       "      <td>Bottles and Cages</td>\n",
       "      <td>53626</td>\n",
       "    </tr>\n",
       "    <tr>\n",
       "      <th>5</th>\n",
       "      <td>Fenders</td>\n",
       "      <td>41992</td>\n",
       "    </tr>\n",
       "    <tr>\n",
       "      <th>6</th>\n",
       "      <td>Gloves</td>\n",
       "      <td>34887</td>\n",
       "    </tr>\n",
       "    <tr>\n",
       "      <th>1</th>\n",
       "      <td>Bike Stands</td>\n",
       "      <td>26696</td>\n",
       "    </tr>\n",
       "    <tr>\n",
       "      <th>3</th>\n",
       "      <td>Caps</td>\n",
       "      <td>21204</td>\n",
       "    </tr>\n",
       "    <tr>\n",
       "      <th>4</th>\n",
       "      <td>Cleaners</td>\n",
       "      <td>8834</td>\n",
       "    </tr>\n",
       "    <tr>\n",
       "      <th>0</th>\n",
       "      <td>Bike Racks</td>\n",
       "      <td>8739</td>\n",
       "    </tr>\n",
       "    <tr>\n",
       "      <th>13</th>\n",
       "      <td>Socks</td>\n",
       "      <td>6018</td>\n",
       "    </tr>\n",
       "  </tbody>\n",
       "</table>\n",
       "</div>"
      ],
      "text/plain": [
       "         Sub_Category  Revenue\n",
       "11         Road Bikes  2590091\n",
       "10     Mountain Bikes  1624435\n",
       "15      Touring Bikes   463106\n",
       "7             Helmets   227653\n",
       "9             Jerseys   209512\n",
       "14    Tires and Tubes   178124\n",
       "16              Vests    90881\n",
       "12             Shorts    64809\n",
       "8     Hydration Packs    61732\n",
       "2   Bottles and Cages    53626\n",
       "5             Fenders    41992\n",
       "6              Gloves    34887\n",
       "1         Bike Stands    26696\n",
       "3                Caps    21204\n",
       "4            Cleaners     8834\n",
       "0          Bike Racks     8739\n",
       "13              Socks     6018"
      ]
     },
     "metadata": {},
     "output_type": "display_data"
    },
    {
     "data": {
      "text/html": [
       "<div>\n",
       "<style scoped>\n",
       "    .dataframe tbody tr th:only-of-type {\n",
       "        vertical-align: middle;\n",
       "    }\n",
       "\n",
       "    .dataframe tbody tr th {\n",
       "        vertical-align: top;\n",
       "    }\n",
       "\n",
       "    .dataframe thead th {\n",
       "        text-align: right;\n",
       "    }\n",
       "</style>\n",
       "<table border=\"1\" class=\"dataframe\">\n",
       "  <thead>\n",
       "    <tr style=\"text-align: right;\">\n",
       "      <th></th>\n",
       "      <th>Sub_Category</th>\n",
       "      <th>Revenue</th>\n",
       "    </tr>\n",
       "  </thead>\n",
       "  <tbody>\n",
       "    <tr>\n",
       "      <th>11</th>\n",
       "      <td>Road Bikes</td>\n",
       "      <td>1395135</td>\n",
       "    </tr>\n",
       "    <tr>\n",
       "      <th>10</th>\n",
       "      <td>Mountain Bikes</td>\n",
       "      <td>679575</td>\n",
       "    </tr>\n",
       "    <tr>\n",
       "      <th>15</th>\n",
       "      <td>Touring Bikes</td>\n",
       "      <td>407333</td>\n",
       "    </tr>\n",
       "    <tr>\n",
       "      <th>7</th>\n",
       "      <td>Helmets</td>\n",
       "      <td>277482</td>\n",
       "    </tr>\n",
       "    <tr>\n",
       "      <th>14</th>\n",
       "      <td>Tires and Tubes</td>\n",
       "      <td>235712</td>\n",
       "    </tr>\n",
       "    <tr>\n",
       "      <th>9</th>\n",
       "      <td>Jerseys</td>\n",
       "      <td>192735</td>\n",
       "    </tr>\n",
       "    <tr>\n",
       "      <th>2</th>\n",
       "      <td>Bottles and Cages</td>\n",
       "      <td>75314</td>\n",
       "    </tr>\n",
       "    <tr>\n",
       "      <th>8</th>\n",
       "      <td>Hydration Packs</td>\n",
       "      <td>55097</td>\n",
       "    </tr>\n",
       "    <tr>\n",
       "      <th>12</th>\n",
       "      <td>Shorts</td>\n",
       "      <td>47562</td>\n",
       "    </tr>\n",
       "    <tr>\n",
       "      <th>5</th>\n",
       "      <td>Fenders</td>\n",
       "      <td>46352</td>\n",
       "    </tr>\n",
       "    <tr>\n",
       "      <th>6</th>\n",
       "      <td>Gloves</td>\n",
       "      <td>45198</td>\n",
       "    </tr>\n",
       "    <tr>\n",
       "      <th>16</th>\n",
       "      <td>Vests</td>\n",
       "      <td>43392</td>\n",
       "    </tr>\n",
       "    <tr>\n",
       "      <th>3</th>\n",
       "      <td>Caps</td>\n",
       "      <td>28349</td>\n",
       "    </tr>\n",
       "    <tr>\n",
       "      <th>0</th>\n",
       "      <td>Bike Racks</td>\n",
       "      <td>22015</td>\n",
       "    </tr>\n",
       "    <tr>\n",
       "      <th>1</th>\n",
       "      <td>Bike Stands</td>\n",
       "      <td>19326</td>\n",
       "    </tr>\n",
       "    <tr>\n",
       "      <th>4</th>\n",
       "      <td>Cleaners</td>\n",
       "      <td>13802</td>\n",
       "    </tr>\n",
       "    <tr>\n",
       "      <th>13</th>\n",
       "      <td>Socks</td>\n",
       "      <td>7604</td>\n",
       "    </tr>\n",
       "  </tbody>\n",
       "</table>\n",
       "</div>"
      ],
      "text/plain": [
       "         Sub_Category  Revenue\n",
       "11         Road Bikes  1395135\n",
       "10     Mountain Bikes   679575\n",
       "15      Touring Bikes   407333\n",
       "7             Helmets   277482\n",
       "14    Tires and Tubes   235712\n",
       "9             Jerseys   192735\n",
       "2   Bottles and Cages    75314\n",
       "8     Hydration Packs    55097\n",
       "12             Shorts    47562\n",
       "5             Fenders    46352\n",
       "6              Gloves    45198\n",
       "16              Vests    43392\n",
       "3                Caps    28349\n",
       "0          Bike Racks    22015\n",
       "1         Bike Stands    19326\n",
       "4            Cleaners    13802\n",
       "13              Socks     7604"
      ]
     },
     "metadata": {},
     "output_type": "display_data"
    }
   ],
   "source": [
    "# hitung revenue sub kategori apa yang tertinggi di australia tahun 2015 dan 2016\n",
    "display(df[(df['Country'] == 'Australia') & (df['Year'] == 2015)].groupby(['Sub_Category']).agg({'Revenue': 'sum'}).reset_index().sort_values(by='Revenue', ascending=False))\n",
    "display(df[(df['Country'] == 'Australia') & (df['Year'] == 2016)].groupby(['Sub_Category']).agg({'Revenue': 'sum'}).reset_index().sort_values(by='Revenue', ascending=False))\n"
   ]
  },
  {
   "cell_type": "markdown",
   "id": "24cb06bb",
   "metadata": {},
   "source": [
    "###   5. Exploration and Analysis\n",
    "Bagian ini berisi proses analisis, penjelasan, perhitungan statistik deskriptif & inferensial, serta pembuatan visualisasi data"
   ]
  },
  {
   "cell_type": "markdown",
   "id": "3a121047",
   "metadata": {},
   "source": [
    "#### 1. Statistic Descriptive\n",
    "\n",
    "Pertanyaan: Apa tren revenue sub-kategori Road Bikes di Kanada dari tahun ke tahun?\n",
    "\n",
    "Dijawab menggunakan measurement of Central Tendency dan Distribution Analysis"
   ]
  },
  {
   "cell_type": "code",
   "execution_count": 8,
   "id": "c88bfb43",
   "metadata": {},
   "outputs": [
    {
     "data": {
      "text/plain": [
       "array(['British Columbia', 'Alberta', 'Ontario'], dtype=object)"
      ]
     },
     "execution_count": 8,
     "metadata": {},
     "output_type": "execute_result"
    }
   ],
   "source": [
    "# tampilkan state apa aja di canada\n",
    "df[df['Country'] == 'Canada']['State'].unique()"
   ]
  },
  {
   "cell_type": "code",
   "execution_count": 9,
   "id": "b8932337",
   "metadata": {},
   "outputs": [
    {
     "name": "stderr",
     "output_type": "stream",
     "text": [
      "C:\\Users\\LENOVO\\AppData\\Local\\Temp\\ipykernel_17864\\3974618303.py:2: UserWarning: Boolean Series key will be reindexed to match DataFrame index.\n",
      "  display(df[df['Sub_Category']== 'Road Bikes'] [df['Country'] == 'Canada'].groupby(['Year']).agg({'Revenue': 'sum'}).reset_index().sort_values(by='Year', ascending=True))\n"
     ]
    },
    {
     "data": {
      "text/html": [
       "<div>\n",
       "<style scoped>\n",
       "    .dataframe tbody tr th:only-of-type {\n",
       "        vertical-align: middle;\n",
       "    }\n",
       "\n",
       "    .dataframe tbody tr th {\n",
       "        vertical-align: top;\n",
       "    }\n",
       "\n",
       "    .dataframe thead th {\n",
       "        text-align: right;\n",
       "    }\n",
       "</style>\n",
       "<table border=\"1\" class=\"dataframe\">\n",
       "  <thead>\n",
       "    <tr style=\"text-align: right;\">\n",
       "      <th></th>\n",
       "      <th>Year</th>\n",
       "      <th>Revenue</th>\n",
       "    </tr>\n",
       "  </thead>\n",
       "  <tbody>\n",
       "    <tr>\n",
       "      <th>0</th>\n",
       "      <td>2011</td>\n",
       "      <td>676021</td>\n",
       "    </tr>\n",
       "    <tr>\n",
       "      <th>1</th>\n",
       "      <td>2012</td>\n",
       "      <td>725134</td>\n",
       "    </tr>\n",
       "    <tr>\n",
       "      <th>2</th>\n",
       "      <td>2013</td>\n",
       "      <td>261043</td>\n",
       "    </tr>\n",
       "    <tr>\n",
       "      <th>3</th>\n",
       "      <td>2014</td>\n",
       "      <td>177990</td>\n",
       "    </tr>\n",
       "    <tr>\n",
       "      <th>4</th>\n",
       "      <td>2015</td>\n",
       "      <td>414901</td>\n",
       "    </tr>\n",
       "    <tr>\n",
       "      <th>5</th>\n",
       "      <td>2016</td>\n",
       "      <td>254798</td>\n",
       "    </tr>\n",
       "  </tbody>\n",
       "</table>\n",
       "</div>"
      ],
      "text/plain": [
       "   Year  Revenue\n",
       "0  2011   676021\n",
       "1  2012   725134\n",
       "2  2013   261043\n",
       "3  2014   177990\n",
       "4  2015   414901\n",
       "5  2016   254798"
      ]
     },
     "metadata": {},
     "output_type": "display_data"
    }
   ],
   "source": [
    "# Apa tren revenue sub-kategori Road Bikes di Kanada dari tahun ke tahun?\n",
    "display(df[df['Sub_Category']== 'Road Bikes'] [df['Country'] == 'Canada'].groupby(['Year']).agg({'Revenue': 'sum'}).reset_index().sort_values(by='Year', ascending=True))"
   ]
  },
  {
   "cell_type": "code",
   "execution_count": 10,
   "id": "16a0c761",
   "metadata": {},
   "outputs": [
    {
     "name": "stdout",
     "output_type": "stream",
     "text": [
      "Year: (2011,)\n",
      "Mean Revenue: 3466.774358974359\n",
      "Median Revenue: 2419.0\n",
      "Standard Deviation Revenue: 3373.83709027426\n",
      "Skewness Revenue: 1.714429408260221\n",
      "Kurtosis Revenue: 2.271975346413509\n",
      "\n",
      "Year: (2012,)\n",
      "Mean Revenue: 3718.6358974358973\n",
      "Median Revenue: 3368.0\n",
      "Standard Deviation Revenue: 2305.3618330272925\n",
      "Skewness Revenue: 0.2875888031994436\n",
      "Kurtosis Revenue: -1.4290628190215124\n",
      "\n",
      "Year: (2013,)\n",
      "Mean Revenue: 2231.136752136752\n",
      "Median Revenue: 2419.0\n",
      "Standard Deviation Revenue: 1083.8813707990475\n",
      "Skewness Revenue: -0.174164215116473\n",
      "Kurtosis Revenue: -1.312499737823918\n",
      "\n",
      "Year: (2014,)\n",
      "Mean Revenue: 2405.2702702702704\n",
      "Median Revenue: 2419.0\n",
      "Standard Deviation Revenue: 1041.739999867152\n",
      "Skewness Revenue: -0.43294468605059366\n",
      "Kurtosis Revenue: -1.0536255678836133\n",
      "\n",
      "Year: (2015,)\n",
      "Mean Revenue: 3546.162393162393\n",
      "Median Revenue: 3542.0\n",
      "Standard Deviation Revenue: 2591.3223589952495\n",
      "Skewness Revenue: 1.0177018016193364\n",
      "Kurtosis Revenue: 0.45791705130674387\n",
      "\n",
      "Year: (2016,)\n",
      "Mean Revenue: 3443.2162162162163\n",
      "Median Revenue: 2419.0\n",
      "Standard Deviation Revenue: 2516.7915173194697\n",
      "Skewness Revenue: 1.6385030415476918\n",
      "Kurtosis Revenue: 2.4225743824736248\n",
      "\n"
     ]
    }
   ],
   "source": [
    "# Statistik deskriptif dari tren revenue sub-kategori Road Bikes di Kanada\n",
    "grouped = df[(df['Sub_Category'] == 'Road Bikes') & (df['Country'] == 'Canada')].groupby(['Year'])\n",
    "# Menampilkan measurement of central tendency per tahun menggunakan perulangan for\n",
    "for year, data in grouped:\n",
    "    print(f\"Year: {year}\")\n",
    "    print(f\"Mean Revenue: {data['Revenue'].mean()}\")\n",
    "    print(f\"Median Revenue: {data['Revenue'].median()}\")\n",
    "    print(f\"Standard Deviation Revenue: {data['Revenue'].std()}\")\n",
    "    print(f\"Skewness Revenue: {data['Revenue'].skew()}\")\n",
    "    print(f\"Kurtosis Revenue: {data['Revenue'].kurtosis()}\")\n",
    "    print()\n"
   ]
  },
  {
   "cell_type": "markdown",
   "id": "83726740",
   "metadata": {},
   "source": [
    "Measurement of Central Tendency:\n",
    "\n",
    "- Tahun 2012, 2013, dan 2014 distribusi revenue relatif simetris berdasarkan nilai median dan mean yang hampir sama dan tahun 2011, 2015, 2016 distribusi tidak simetris dengan mean > median banyak nilai rendah, tapi beberapa nilai revenue sangat tinggi mempengaruhi rata-rata.\n",
    "\n",
    "- Di semua tahun standar deviasi cukup besar, bahkan di tahun 2011 dan 2016 mendekati atau melebihi mean, menandakan variabilitas revenue yang tinggi dan distribusi data yang tersebar lebar.\n",
    "\n",
    "- 2011 & 2016 Highly positively skewed artinya mayoritas revenue rendah, beberapa sangat tinggi, 2015 Moderately skewed artinya ada ketimpangan tapi tidak ekstrem, 2012–2014 Normal skew artinya distribusi relatif seimbang.\n",
    "\n",
    "- 2016 Leptokurtic artinya distribusi tajam, banyak nilai dekat rata-rata tapi beberapa outlier tinggi, 2012–2014 Platykurtic artinya distribusi datar, tidak banyak outlier, 2015 Mendekati mesokurtic, bentuk distribusi hampir normal.\n"
   ]
  },
  {
   "cell_type": "markdown",
   "id": "4657f936",
   "metadata": {},
   "source": [
    "#### 2. Statistic Inferential"
   ]
  },
  {
   "cell_type": "markdown",
   "id": "5fe7afc0",
   "metadata": {},
   "source": [
    "#### Kenapa revenue Road Bikes di Kanada secara signifikan lebih rendah dibandingkan negara lain selama 2014–2016?\n",
    "- H0: Rata-rata revenue Road Bikes dengan age group adult selama 2014-2016 Kanada == Australia.\n",
    "- H1: Rata-rata revenue Road Bikes dengan age group adult selama 2014-2016 Kanada != Australia.\n",
    "\n",
    "Menggunakan Two-Sample Independent Test"
   ]
  },
  {
   "cell_type": "code",
   "execution_count": 11,
   "id": "ec99d154",
   "metadata": {},
   "outputs": [
    {
     "data": {
      "text/plain": [
       "Index(['Date', 'Day', 'Month', 'Year', 'Customer_Age', 'Age_Group',\n",
       "       'Customer_Gender', 'Country', 'State', 'Product_Category',\n",
       "       'Sub_Category', 'Product', 'Order_Quantity', 'Unit_Cost', 'Unit_Price',\n",
       "       'Profit', 'Cost', 'Revenue'],\n",
       "      dtype='object')"
      ]
     },
     "execution_count": 11,
     "metadata": {},
     "output_type": "execute_result"
    }
   ],
   "source": [
    "df.columns"
   ]
  },
  {
   "cell_type": "code",
   "execution_count": 12,
   "id": "ed1b382a",
   "metadata": {},
   "outputs": [
    {
     "data": {
      "text/plain": [
       "array(['Youth (<25)', 'Adults (35-64)', 'Young Adults (25-34)',\n",
       "       'Seniors (64+)'], dtype=object)"
      ]
     },
     "execution_count": 12,
     "metadata": {},
     "output_type": "execute_result"
    }
   ],
   "source": [
    "df['Age_Group'].unique()"
   ]
  },
  {
   "cell_type": "code",
   "execution_count": 13,
   "id": "f2d2e46a",
   "metadata": {},
   "outputs": [],
   "source": [
    "canada = df[(df['Country'] == 'Canada') & (df['Sub_Category'] == 'Road Bikes') & (df['Age_Group'] == 'Adults (35-64)') & (df['Year'].between(2014, 2016))]['Revenue']\n",
    "australia = df[(df['Country'] == 'Australia') & (df['Sub_Category'] == 'Road Bikes') & (df['Age_Group'] == 'Adults (35-64)') & (df['Year'].between(2014, 2016))]['Revenue']"
   ]
  },
  {
   "cell_type": "code",
   "execution_count": 14,
   "id": "0f24aabb",
   "metadata": {},
   "outputs": [
    {
     "data": {
      "text/plain": [
       "60059    1109\n",
       "60061    1109\n",
       "60063    1109\n",
       "60065    1109\n",
       "60066    1109\n",
       "         ... \n",
       "71139    3542\n",
       "71140    2419\n",
       "71141    2419\n",
       "71142    2419\n",
       "71143    2419\n",
       "Name: Revenue, Length: 161, dtype: int64"
      ]
     },
     "execution_count": 14,
     "metadata": {},
     "output_type": "execute_result"
    }
   ],
   "source": [
    "canada"
   ]
  },
  {
   "cell_type": "code",
   "execution_count": 15,
   "id": "b2fb0432",
   "metadata": {},
   "outputs": [
    {
     "name": "stdout",
     "output_type": "stream",
     "text": [
      "Canada adult: 161\n",
      "Australia adult: 1068\n"
     ]
    }
   ],
   "source": [
    "print(\"Canada adult:\", len(canada))\n",
    "print(\"Australia adult:\", len(australia))\n"
   ]
  },
  {
   "cell_type": "code",
   "execution_count": 16,
   "id": "d503d127",
   "metadata": {},
   "outputs": [
    {
     "name": "stdout",
     "output_type": "stream",
     "text": [
      "T-statistic: 4.572838474910233\n",
      "P-value: 5.2985187328050124e-06\n"
     ]
    }
   ],
   "source": [
    "t_stat, p_val = stats.ttest_ind(canada, australia)  \n",
    "print(f\"T-statistic: {t_stat}\")\n",
    "print(f\"P-value: {p_val}\")"
   ]
  },
  {
   "cell_type": "markdown",
   "id": "721d5a8d",
   "metadata": {},
   "source": [
    "Critical value: 0.5\n",
    "\n",
    "p-val = 5.2985187328050124×10 \n",
    "−6(0.0000052985.) < critical value\n",
    "\n",
    "H0 ditolak\n",
    "\n",
    "Conclusion:\n",
    "\n",
    "Rata-rata revenue age group adult Road Bikes berbeda signifikan antara Kanada dan Australia."
   ]
  },
  {
   "cell_type": "code",
   "execution_count": 17,
   "id": "e22952a8",
   "metadata": {},
   "outputs": [
    {
     "data": {
      "text/plain": [
       "Year\n",
       "2011    676021\n",
       "2012    725134\n",
       "2013    261043\n",
       "2014    177990\n",
       "2015    414901\n",
       "2016    254798\n",
       "Name: Revenue, dtype: int64"
      ]
     },
     "metadata": {},
     "output_type": "display_data"
    },
    {
     "data": {
      "text/plain": [
       "Year\n",
       "2011    1726566\n",
       "2012    1770989\n",
       "2013    1693594\n",
       "2014     918168\n",
       "2015    2590091\n",
       "2016    1395135\n",
       "Name: Revenue, dtype: int64"
      ]
     },
     "metadata": {},
     "output_type": "display_data"
    }
   ],
   "source": [
    "display(df[(df['Country'] == 'Canada') & (df['Sub_Category'] == 'Road Bikes')].groupby('Year')['Revenue'].sum())\n",
    "display(df[(df['Country'] == 'Australia') & (df['Sub_Category'] == 'Road Bikes')].groupby('Year')['Revenue'].sum())"
   ]
  },
  {
   "cell_type": "markdown",
   "id": "f01f3cb8",
   "metadata": {},
   "source": [
    "#### 3. Visualisasi Data"
   ]
  },
  {
   "cell_type": "markdown",
   "id": "6449584c",
   "metadata": {},
   "source": [
    "3.1 Kapan puncak dan penurunan revenue Road Bikes terjadi sepanjang tahun, dilihat per bulan?"
   ]
  },
  {
   "cell_type": "code",
   "execution_count": 18,
   "id": "d50f6ec2",
   "metadata": {},
   "outputs": [
    {
     "name": "stderr",
     "output_type": "stream",
     "text": [
      "C:\\Users\\LENOVO\\AppData\\Local\\Temp\\ipykernel_17864\\3919309677.py:5: FutureWarning: \n",
      "\n",
      "Passing `palette` without assigning `hue` is deprecated and will be removed in v0.14.0. Assign the `x` variable to `hue` and set `legend=False` for the same effect.\n",
      "\n",
      "  sns.barplot(data=data_to_plot, x='Date', y='Revenue', palette='viridis')\n"
     ]
    },
    {
     "name": "stdout",
     "output_type": "stream",
     "text": [
      "Countries in the dataset: ['Canada' 'Australia' 'United States' 'Germany' 'France' 'United Kingdom']\n"
     ]
    },
    {
     "data": {
      "image/png": "[encoded data removed]",
      "text/plain": [
       "<Figure size 640x480 with 1 Axes>"
      ]
     },
     "metadata": {},
     "output_type": "display_data"
    }
   ],
   "source": [
    "# Visualisasi menggunakan seaborn\n",
    "month = df['Date'].dt.month  \n",
    "data_to_plot = df[df['Sub_Category'] == 'Road Bikes'].groupby(month).agg({'Revenue': 'sum'}).reset_index()\n",
    "\n",
    "sns.barplot(data=data_to_plot, x='Date', y='Revenue', palette='viridis')\n",
    "plt.title('Revenue Trend of Road Bikes (Monthly)')\n",
    "plt.xlabel('Month')\n",
    "plt.ticklabel_format(style='plain', axis='y')\n",
    "plt.ylabel('Revenue')\n",
    "print(\"Countries in the dataset:\", df['Country'].unique())\n",
    "plt.show()"
   ]
  },
  {
   "cell_type": "markdown",
   "id": "96033835",
   "metadata": {},
   "source": [
    "Insight yang didapat adalah tren revenue perbulan tidak stabil dan puncak penurunan nya dari bulan juni ke juli turun cukup jauh dan puncak peningkatannya adalah bulan november ke desember."
   ]
  },
  {
   "cell_type": "markdown",
   "id": "a9b8564d",
   "metadata": {},
   "source": [
    "3.2  Di provinsi mana di Kanada revenue Road Bikes paling tinggi dan paling rendah?\n"
   ]
  },
  {
   "cell_type": "code",
   "execution_count": 19,
   "id": "4eea8999",
   "metadata": {},
   "outputs": [
    {
     "data": {
      "image/png": "[encoded data removed]",
      "text/plain": [
       "<Figure size 640x480 with 1 Axes>"
      ]
     },
     "metadata": {},
     "output_type": "display_data"
    }
   ],
   "source": [
    "# Visualisasi di provinsi mana saja revenue subkategori Road Bikes di kanada paling tinggi atau rendah  menggunakan seaborn\n",
    "data_to_sea = df[(df['Sub_Category'] == 'Road Bikes') & (df['Country'] == 'Canada')].groupby(['Year', 'State']).agg({'Revenue': 'sum'}).reset_index()\n",
    "\n",
    "sns.barplot(data=data_to_sea, x='State', y='Revenue', hue='Year', palette='viridis', orient='v')\n",
    "plt.title('Revenue by Province and Year for Road Bikes in Canada')\n",
    "plt.xlabel('State')\n",
    "plt.ylabel('Revenue')\n",
    "plt.show()"
   ]
  },
  {
   "cell_type": "markdown",
   "id": "da2f2867",
   "metadata": {},
   "source": [
    "Dari dua provinsi di kanada sangat terlihat jelas kalau provinsi British Columbia sangat jauh keatas selama 6 tahun walaupun sangat fluktuatif sedangangkan Alberta hampir tidak kelihatan, menunjukkan pendapatan sangat tidak merata antar provinsi. "
   ]
  },
  {
   "cell_type": "markdown",
   "id": "deb7410d",
   "metadata": {},
   "source": [
    "3.3 Kelompok pelanggan mana yang berkontribusi paling besar dan paling kecil terhadap revenue?\n"
   ]
  },
  {
   "cell_type": "code",
   "execution_count": 20,
   "id": "eb8276c4",
   "metadata": {},
   "outputs": [
    {
     "data": {
      "image/png": "[encoded data removed]",
      "text/plain": [
       "<Figure size 640x480 with 1 Axes>"
      ]
     },
     "metadata": {},
     "output_type": "display_data"
    }
   ],
   "source": [
    "# Visualisasi siapa saja kelompok pelanggan utama yang berkontribusi paling banyak dan paling sedikit?\n",
    "\n",
    "# Visualisasi data menggunakan matplotlib\n",
    "age_group_data = df.groupby('Age_Group').size().reset_index(name='Count')\n",
    "plt.pie(age_group_data['Count'], labels=age_group_data['Age_Group'], autopct='%1.1f%%', startangle=140, colors=sns.color_palette('viridis', len(age_group_data)))\n",
    "plt.title('Distribution of Customer Age Groups')\n",
    "plt.show()"
   ]
  },
  {
   "cell_type": "markdown",
   "id": "4524a764",
   "metadata": {},
   "source": [
    "Kelompok pelanggan yang paling banyak adalah adults usia 35-64 tahun sedangkan paling sedikit adalah seniors berusia 64 tahun keatas, namun usia youth dan young adult lebih sedikit dibandingkan dengan adult, perlu dicari tahu kenapa golongan muda tidak se aktif golongan tua untuk bersepeda."
   ]
  },
  {
   "cell_type": "markdown",
   "id": "ffd7e328",
   "metadata": {},
   "source": [
    "3.4 Bagaimana kontribusi Road Bikes dibandingkan sub-kategori lain dalam kategori sepeda?\n"
   ]
  },
  {
   "cell_type": "code",
   "execution_count": 21,
   "id": "e8c9bc72",
   "metadata": {},
   "outputs": [
    {
     "data": {
      "image/png": "[encoded data removed]",
      "text/plain": [
       "<Figure size 640x480 with 1 Axes>"
      ]
     },
     "metadata": {},
     "output_type": "display_data"
    }
   ],
   "source": [
    "# visualisasi bagaimana kontribusi Road Bikes dibandingkan sub-kategori lain dalam kategori sepeda?\n",
    "bike_data = df[df['Product_Category'] == 'Bikes'].groupby(['Sub_Category'])['Revenue'].sum().reset_index()\n",
    "\n",
    "# Visualisasi data menggunakan seaborn\n",
    "sns.barplot(data=bike_data, y='Revenue', x='Sub_Category', palette='viridis', orient='v', hue='Sub_Category')\n",
    "plt.title('Contribution of Road Bikes vs Other Sub-Categories in Bikes')\n",
    "plt.ylabel('Revenue')\n",
    "plt.ticklabel_format(style='plain', axis='y')\n",
    "plt.xlabel('Sub-Category')\n",
    "plt.show()"
   ]
  },
  {
   "cell_type": "markdown",
   "id": "af3c57c8",
   "metadata": {},
   "source": [
    "Dilihat sekilas tabelnya sangat tidak seimbang dan bagaimana kontribusi road bikes dibandingkan sub kategori lain jawabannya berkontribusi sangat tinggi sehingga masuk akal untuk ditingkatkan revenue nya karena banyak peminatnya."
   ]
  },
  {
   "cell_type": "markdown",
   "id": "097db064",
   "metadata": {},
   "source": [
    "### 6. Conclusion\n",
    "\n",
    "Berdasarkan hasil analisis eksploratif dan statistik terhadap penjualan sub-kategori Road Bikes di Kanada selama tahun 2011–2016, berikut kesimpulan yang dapat ditarik:\n",
    "\n",
    "1. Tren Revenue Tahun ke Tahun  \n",
    "   Hasil Measurement of Central Tendency dan Distribution Analysis menunjukkan bahwa revenue Road Bikes di Kanada bersifat tidak stabil dari tahun ke tahun.  \n",
    "   \n",
    "   - Tahun 2012, 2013, dan 2014 memiliki distribusi yang relatif simetris, karena nilai mean dan median hampir sama.  \n",
    "   - Tahun 2011, 2015, dan 2016 justru menunjukkan distribusi tidak simetris, dengan mean jauh lebih besar daripada median, yang mengindikasikan beberapa nilai revenue sangat tinggi (outlier).\n",
    "   - Standar deviasi yang tinggi pada semua tahun (bahkan melebihi atau mendekati nilai mean pada 2011 dan 2016) menunjukkan variabilitas revenue yang sangat besar, artinya pendapatan tiap periode sangat berfluktuasi.\n",
    "   - Dari sisi skewness:\n",
    "     - Tahun 2011 dan 2016: Highly positively skewed yaitu mayoritas pendapatan rendah, beberapa sangat tinggi.\n",
    "     - Tahun 2015: Moderately skewed.\n",
    "     - Tahun 2012–2014: Normal skew yaitu distribusi mendekati simetris.\n",
    "   - Dari sisi kurtosis:\n",
    "     - Tahun 2016: Leptokurtic yaitu banyak nilai mendekati rata-rata tapi ada outlier tinggi.\n",
    "     - Tahun 2012–2014: Platykurtic yaitu distribusi datar dan sedikit outlier.\n",
    "     - Tahun 2015: Hampir mesokurtic yaitu mendekati distribusi normal.\n",
    "\n",
    "   Tren revenue Road Bikes di Kanada dari 2011–2016 tidak stabil dan cenderung tidak simetris, dengan beberapa tahun menunjukkan outlier besar. Ini berarti perencanaan penjualan selama ini belum konsisten dan keberhasilan revenue lebih dipengaruhi oleh puncak sesaat daripada pertumbuhan merata. Dibutuhkan strategi yang menargetkan segmen-segmen yang selama ini memberi outlier tinggi, dan menstabilkan performa rata-rata ke depan.\n",
    "\n",
    "2. Perbandingan Kanada vs Australia (2014–2016)  \n",
    "   Melalui uji Two-Sample Independent Test, ditemukan bahwa rata-rata revenue Kanada secara signifikan lebih rendah dari Australia pada kelompok usia dewasa (adult), memperkuat bahwa Kanada mengalami penurunan yang bukan kebetulan.\n",
    "\n",
    "3. Tren Bulanan  \n",
    "   Revenue per bulan sangat fluktuatif, dengan penurunan tajam dari Juni ke Juli, dan lonjakan signifikan dari November ke Desember, mengindikasikan adanya pola musiman yang perlu dimanfaatkan lebih optimal.\n",
    "\n",
    "4. Distribusi Provinsi  \n",
    "   Provinsi British Columbia mendominasi revenue secara ekstrem dibandingkan Alberta yang nyaris tidak memberikan kontribusi. Ini menunjukkan ketimpangan pendapatan antar provinsi, dan peluang pengembangan wilayah dengan performa rendah.\n",
    "\n",
    "5. Segmentasi Pelanggan  \n",
    "   Kelompok usia 35–64 tahun (adult) adalah penyumbang revenue terbesar. Kelompok youth dan young adult memberikan kontribusi rendah, yang menjadi tanda bahwa generasi muda kurang aktif sebagai pasar sepeda, dan perlu ditargetkan secara khusus.\n",
    "\n",
    "6. Kontribusi terhadap Kategori Sepeda  \n",
    "   Sub-kategori Road Bikes memberikan kontribusi terbesar terhadap kategori sepeda. Artinya, pengembangan Road Bikes bukan hanya layak, tetapi sangat strategis untuk mendorong keseluruhan pertumbuhan bisnis.\n",
    "\n",
    "- Rekomendasi \n",
    "\n",
    "   - Fokus pada bulan-bulan dengan tren peningkatan untuk mendorong penjualan musiman.\n",
    "   - Kembangkan pasar di provinsi dengan revenue rendah, seperti Alberta, melalui promosi atau kerja sama lokal.\n",
    "   - Targetkan generasi muda dengan pendekatan yang sesuai gaya hidup mereka (komunitas sepeda, media sosial, kolaborasi event).\n",
    "   - Pertahankan kekuatan provinsi dominan seperti British Columbia dengan program loyalitas.\n",
    "\n",
    "- Benang merah\n",
    "\n",
    "   Dengan mengintegrasikan analisis statistik dan visualisasi, dapat disimpulkan bahwa Kanada memiliki potensi besar namun belum dimaksimalkan. \n"
   ]
  }
 ],
 "metadata": {
  "kernelspec": {
   "display_name": "base",
   "language": "python",
   "name": "python3"
  },
  "language_info": {
   "codemirror_mode": {
    "name": "ipython",
    "version": 3
   },
   "file_extension": ".py",
   "mimetype": "text/x-python",
   "name": "python",
   "nbconvert_exporter": "python",
   "pygments_lexer": "ipython3",
   "version": "3.12.9"
  }
 },
 "nbformat": 4,
 "nbformat_minor": 5
}
